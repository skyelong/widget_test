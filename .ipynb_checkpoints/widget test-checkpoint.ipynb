{
 "cells": [
  {
   "cell_type": "markdown",
   "metadata": {},
   "source": [
    "This code is from [Eploring IPYWIDGETS by Semi Koen](https://towardsdatascience.com/bring-your-jupyter-notebook-to-life-with-interactive-widgets-bc12e03f0916)\n",
    "You should go check it out!"
   ]
  },
  {
   "cell_type": "code",
   "execution_count": 3,
   "metadata": {},
   "outputs": [],
   "source": [
    "import ipywidgets as widgets\n",
    "from IPython.display import display\n",
    "import pandas as pd\n",
    "import numpy as np"
   ]
  },
  {
   "cell_type": "code",
   "execution_count": 2,
   "metadata": {},
   "outputs": [
    {
     "data": {
      "application/vnd.jupyter.widget-view+json": {
       "model_id": "0a07c2081d8b437193a90b17f7c6dfea",
       "version_major": 2,
       "version_minor": 0
      },
      "text/plain": [
       "Button(description='Medium', style=ButtonStyle())"
      ]
     },
     "metadata": {},
     "output_type": "display_data"
    },
    {
     "name": "stdout",
     "output_type": "stream",
     "text": [
      "Hello from the Medium button!\n",
      "Hello from the Medium button!\n",
      "Hello from the Medium button!\n"
     ]
    }
   ],
   "source": [
    "btn = widgets.Button(description='Medium')\n",
    "display(btn)\n",
    "def btn_eventhandler(obj):\n",
    "    print('Hello from the {} button!'.format(obj.description))\n",
    "btn.on_click(btn_eventhandler)"
   ]
  },
  {
   "cell_type": "code",
   "execution_count": 4,
   "metadata": {},
   "outputs": [],
   "source": [
    "url = \"https://data.london.gov.uk/download/number-international-visitors-london/b1e0f953-4c8a-4b45-95f5-e0d143d5641e/international-visitors-london-raw.csv\"\n",
    "df_london = pd.read_csv(url)"
   ]
  },
  {
   "cell_type": "code",
   "execution_count": 5,
   "metadata": {},
   "outputs": [],
   "source": [
    "ALL = 'ALL'\n",
    "def unique_sorted_values_plus_ALL(array):\n",
    "    unique = array.unique().tolist()\n",
    "    unique.sort()\n",
    "    unique.insert(0, ALL)\n",
    "    return unique"
   ]
  },
  {
   "cell_type": "code",
   "execution_count": 6,
   "metadata": {},
   "outputs": [],
   "source": [
    "dropdown_year = widgets.Dropdown(options =    unique_sorted_values_plus_ALL(df_london.year))"
   ]
  },
  {
   "cell_type": "code",
   "execution_count": 8,
   "metadata": {},
   "outputs": [],
   "source": [
    "def dropdown_year_eventhandler(change):\n",
    "    if (change.new == ALL):\n",
    "        display(df_london)\n",
    "    else:\n",
    "        display(df_london[df_london.year == change.new])"
   ]
  },
  {
   "cell_type": "code",
   "execution_count": 9,
   "metadata": {},
   "outputs": [],
   "source": [
    "dropdown_year.observe(dropdown_year_eventhandler, names='value')"
   ]
  },
  {
   "cell_type": "code",
   "execution_count": 10,
   "metadata": {},
   "outputs": [
    {
     "data": {
      "application/vnd.jupyter.widget-view+json": {
       "model_id": "3308473b4a45423e9fde3a4e0824272d",
       "version_major": 2,
       "version_minor": 0
      },
      "text/plain": [
       "Dropdown(options=('ALL', 2002, 2003, 2004, 2005, 2006, 2007, 2008, 2009, 2010, 2011, 2012, 2013, 2014, 2015, 2…"
      ]
     },
     "metadata": {},
     "output_type": "display_data"
    },
    {
     "data": {
      "text/html": [
       "<div>\n",
       "<style scoped>\n",
       "    .dataframe tbody tr th:only-of-type {\n",
       "        vertical-align: middle;\n",
       "    }\n",
       "\n",
       "    .dataframe tbody tr th {\n",
       "        vertical-align: top;\n",
       "    }\n",
       "\n",
       "    .dataframe thead th {\n",
       "        text-align: right;\n",
       "    }\n",
       "</style>\n",
       "<table border=\"1\" class=\"dataframe\">\n",
       "  <thead>\n",
       "    <tr style=\"text-align: right;\">\n",
       "      <th></th>\n",
       "      <th>year</th>\n",
       "      <th>quarter</th>\n",
       "      <th>market</th>\n",
       "      <th>dur_stay</th>\n",
       "      <th>mode</th>\n",
       "      <th>purpose</th>\n",
       "      <th>area</th>\n",
       "      <th>visits</th>\n",
       "      <th>spend</th>\n",
       "      <th>nights</th>\n",
       "      <th>sample</th>\n",
       "    </tr>\n",
       "  </thead>\n",
       "  <tbody>\n",
       "    <tr>\n",
       "      <th>51334</th>\n",
       "      <td>2017</td>\n",
       "      <td>Q1</td>\n",
       "      <td>Belgium</td>\n",
       "      <td>1-3  nights</td>\n",
       "      <td>Air</td>\n",
       "      <td>Holiday</td>\n",
       "      <td>LONDON</td>\n",
       "      <td>7.419402</td>\n",
       "      <td>4.188380</td>\n",
       "      <td>16.043043</td>\n",
       "      <td>7</td>\n",
       "    </tr>\n",
       "    <tr>\n",
       "      <th>51335</th>\n",
       "      <td>2017</td>\n",
       "      <td>Q1</td>\n",
       "      <td>Belgium</td>\n",
       "      <td>1-3  nights</td>\n",
       "      <td>Air</td>\n",
       "      <td>Business</td>\n",
       "      <td>LONDON</td>\n",
       "      <td>3.478223</td>\n",
       "      <td>1.194975</td>\n",
       "      <td>4.801949</td>\n",
       "      <td>7</td>\n",
       "    </tr>\n",
       "    <tr>\n",
       "      <th>51336</th>\n",
       "      <td>2017</td>\n",
       "      <td>Q1</td>\n",
       "      <td>Belgium</td>\n",
       "      <td>1-3  nights</td>\n",
       "      <td>Air</td>\n",
       "      <td>Miscellaneous</td>\n",
       "      <td>LONDON</td>\n",
       "      <td>2.393583</td>\n",
       "      <td>0.233919</td>\n",
       "      <td>3.322559</td>\n",
       "      <td>3</td>\n",
       "    </tr>\n",
       "    <tr>\n",
       "      <th>51337</th>\n",
       "      <td>2017</td>\n",
       "      <td>Q1</td>\n",
       "      <td>Belgium</td>\n",
       "      <td>1-3  nights</td>\n",
       "      <td>Sea</td>\n",
       "      <td>Holiday</td>\n",
       "      <td>LONDON</td>\n",
       "      <td>13.052047</td>\n",
       "      <td>4.134871</td>\n",
       "      <td>27.861526</td>\n",
       "      <td>14</td>\n",
       "    </tr>\n",
       "    <tr>\n",
       "      <th>51338</th>\n",
       "      <td>2017</td>\n",
       "      <td>Q1</td>\n",
       "      <td>Belgium</td>\n",
       "      <td>1-3  nights</td>\n",
       "      <td>Sea</td>\n",
       "      <td>Business</td>\n",
       "      <td>LONDON</td>\n",
       "      <td>1.879924</td>\n",
       "      <td>0.290365</td>\n",
       "      <td>4.708967</td>\n",
       "      <td>2</td>\n",
       "    </tr>\n",
       "    <tr>\n",
       "      <th>...</th>\n",
       "      <td>...</td>\n",
       "      <td>...</td>\n",
       "      <td>...</td>\n",
       "      <td>...</td>\n",
       "      <td>...</td>\n",
       "      <td>...</td>\n",
       "      <td>...</td>\n",
       "      <td>...</td>\n",
       "      <td>...</td>\n",
       "      <td>...</td>\n",
       "      <td>...</td>\n",
       "    </tr>\n",
       "    <tr>\n",
       "      <th>54622</th>\n",
       "      <td>2017</td>\n",
       "      <td>Q4</td>\n",
       "      <td>Other Africa</td>\n",
       "      <td>8-14 nights</td>\n",
       "      <td>Air</td>\n",
       "      <td>VFR</td>\n",
       "      <td>LONDON</td>\n",
       "      <td>6.639372</td>\n",
       "      <td>2.399617</td>\n",
       "      <td>52.929674</td>\n",
       "      <td>5</td>\n",
       "    </tr>\n",
       "    <tr>\n",
       "      <th>54623</th>\n",
       "      <td>2017</td>\n",
       "      <td>Q4</td>\n",
       "      <td>Other Africa</td>\n",
       "      <td>8-14 nights</td>\n",
       "      <td>Air</td>\n",
       "      <td>Miscellaneous</td>\n",
       "      <td>LONDON</td>\n",
       "      <td>0.400294</td>\n",
       "      <td>0.806592</td>\n",
       "      <td>4.002940</td>\n",
       "      <td>1</td>\n",
       "    </tr>\n",
       "    <tr>\n",
       "      <th>54624</th>\n",
       "      <td>2017</td>\n",
       "      <td>Q4</td>\n",
       "      <td>Other Africa</td>\n",
       "      <td>15+  nights</td>\n",
       "      <td>Air</td>\n",
       "      <td>Business</td>\n",
       "      <td>LONDON</td>\n",
       "      <td>0.562562</td>\n",
       "      <td>1.133562</td>\n",
       "      <td>9.000992</td>\n",
       "      <td>1</td>\n",
       "    </tr>\n",
       "    <tr>\n",
       "      <th>54625</th>\n",
       "      <td>2017</td>\n",
       "      <td>Q4</td>\n",
       "      <td>Other Africa</td>\n",
       "      <td>15+  nights</td>\n",
       "      <td>Air</td>\n",
       "      <td>VFR</td>\n",
       "      <td>LONDON</td>\n",
       "      <td>4.652418</td>\n",
       "      <td>2.200366</td>\n",
       "      <td>222.104392</td>\n",
       "      <td>5</td>\n",
       "    </tr>\n",
       "    <tr>\n",
       "      <th>54626</th>\n",
       "      <td>2017</td>\n",
       "      <td>Q4</td>\n",
       "      <td>Other Africa</td>\n",
       "      <td>15+  nights</td>\n",
       "      <td>Tunnel</td>\n",
       "      <td>Study</td>\n",
       "      <td>LONDON</td>\n",
       "      <td>1.712471</td>\n",
       "      <td>10.466867</td>\n",
       "      <td>172.204895</td>\n",
       "      <td>1</td>\n",
       "    </tr>\n",
       "  </tbody>\n",
       "</table>\n",
       "<p>3293 rows × 11 columns</p>\n",
       "</div>"
      ],
      "text/plain": [
       "       year quarter        market     dur_stay    mode        purpose  \\\n",
       "51334  2017      Q1       Belgium  1-3  nights     Air        Holiday   \n",
       "51335  2017      Q1       Belgium  1-3  nights     Air       Business   \n",
       "51336  2017      Q1       Belgium  1-3  nights     Air  Miscellaneous   \n",
       "51337  2017      Q1       Belgium  1-3  nights     Sea        Holiday   \n",
       "51338  2017      Q1       Belgium  1-3  nights     Sea       Business   \n",
       "...     ...     ...           ...          ...     ...            ...   \n",
       "54622  2017      Q4  Other Africa  8-14 nights     Air            VFR   \n",
       "54623  2017      Q4  Other Africa  8-14 nights     Air  Miscellaneous   \n",
       "54624  2017      Q4  Other Africa  15+  nights     Air       Business   \n",
       "54625  2017      Q4  Other Africa  15+  nights     Air            VFR   \n",
       "54626  2017      Q4  Other Africa  15+  nights  Tunnel          Study   \n",
       "\n",
       "          area     visits      spend      nights  sample  \n",
       "51334   LONDON   7.419402   4.188380   16.043043       7  \n",
       "51335   LONDON   3.478223   1.194975    4.801949       7  \n",
       "51336   LONDON   2.393583   0.233919    3.322559       3  \n",
       "51337   LONDON  13.052047   4.134871   27.861526      14  \n",
       "51338   LONDON   1.879924   0.290365    4.708967       2  \n",
       "...        ...        ...        ...         ...     ...  \n",
       "54622   LONDON   6.639372   2.399617   52.929674       5  \n",
       "54623   LONDON   0.400294   0.806592    4.002940       1  \n",
       "54624   LONDON   0.562562   1.133562    9.000992       1  \n",
       "54625   LONDON   4.652418   2.200366  222.104392       5  \n",
       "54626   LONDON   1.712471  10.466867  172.204895       1  \n",
       "\n",
       "[3293 rows x 11 columns]"
      ]
     },
     "metadata": {},
     "output_type": "display_data"
    }
   ],
   "source": [
    "display(dropdown_year)"
   ]
  }
 ],
 "metadata": {
  "kernelspec": {
   "display_name": "Python 3",
   "language": "python",
   "name": "python3"
  },
  "language_info": {
   "codemirror_mode": {
    "name": "ipython",
    "version": 3
   },
   "file_extension": ".py",
   "mimetype": "text/x-python",
   "name": "python",
   "nbconvert_exporter": "python",
   "pygments_lexer": "ipython3",
   "version": "3.7.4"
  },
  "widgets": {
   "application/vnd.jupyter.widget-state+json": {
    "state": {
     "0a07c2081d8b437193a90b17f7c6dfea": {
      "model_module": "@jupyter-widgets/controls",
      "model_module_version": "1.5.0",
      "model_name": "ButtonModel",
      "state": {
       "description": "Medium",
       "layout": "IPY_MODEL_7a19d2587f984f77aa9234e06446e7b1",
       "style": "IPY_MODEL_30235e8e6977411a81121f68ac875846"
      }
     },
     "1144179e23f84ef7b4df8d2441b7e0a2": {
      "model_module": "@jupyter-widgets/base",
      "model_module_version": "1.2.0",
      "model_name": "LayoutModel",
      "state": {}
     },
     "30235e8e6977411a81121f68ac875846": {
      "model_module": "@jupyter-widgets/controls",
      "model_module_version": "1.5.0",
      "model_name": "ButtonStyleModel",
      "state": {}
     },
     "3308473b4a45423e9fde3a4e0824272d": {
      "model_module": "@jupyter-widgets/controls",
      "model_module_version": "1.5.0",
      "model_name": "DropdownModel",
      "state": {
       "_options_labels": [
        "ALL",
        "2002",
        "2003",
        "2004",
        "2005",
        "2006",
        "2007",
        "2008",
        "2009",
        "2010",
        "2011",
        "2012",
        "2013",
        "2014",
        "2015",
        "2016",
        "2017",
        "2018",
        "2019"
       ],
       "index": 16,
       "layout": "IPY_MODEL_1144179e23f84ef7b4df8d2441b7e0a2",
       "style": "IPY_MODEL_47252f2c233148c1b6fffae37b66b796"
      }
     },
     "47252f2c233148c1b6fffae37b66b796": {
      "model_module": "@jupyter-widgets/controls",
      "model_module_version": "1.5.0",
      "model_name": "DescriptionStyleModel",
      "state": {
       "description_width": ""
      }
     },
     "7a19d2587f984f77aa9234e06446e7b1": {
      "model_module": "@jupyter-widgets/base",
      "model_module_version": "1.2.0",
      "model_name": "LayoutModel",
      "state": {}
     }
    },
    "version_major": 2,
    "version_minor": 0
   }
  }
 },
 "nbformat": 4,
 "nbformat_minor": 4
}
